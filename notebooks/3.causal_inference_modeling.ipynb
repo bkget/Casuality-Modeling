{
 "cells": [
  {
   "cell_type": "code",
   "execution_count": 3,
   "metadata": {},
   "outputs": [],
   "source": [
    "# Importing Libraries\n",
    "\n",
    "from sklearn.metrics import recall_score, f1_score, accuracy_score, precision_score\n",
    "from sklearn.model_selection import train_test_split\n",
    "from sklearn.metrics import accuracy_score\n",
    "from sklearn import preprocessing\n",
    "\n",
    "from causalnex.discretiser.discretiser_strategy import DecisionTreeSupervisedDiscretiserMethod\n",
    "from causalnex.utils.network_utils import get_markov_blanket\n",
    "from causalnex.evaluation import classification_report \n",
    "from causalnex.structure.notears import from_pandas\n",
    "from causalnex.plots import NODE_STYLE, EDGE_STYLE\n",
    "from causalnex.network import BayesianNetwork\n",
    "import joblib\n",
    "\n",
    "import numpy as np\n",
    "import seaborn as sns\n",
    "import os, sys, warnings\n",
    "warnings.filterwarnings('ignore')\n",
    "sns.set_style(\"darkgrid\")"
   ]
  },
  {
   "cell_type": "code",
   "execution_count": 2,
   "metadata": {},
   "outputs": [
    {
     "name": "stdout",
     "output_type": "stream",
     "text": [
      "2022-07-02 10:01:51,634 — FileHandler — DEBUG — Loaded successfully!\n",
      "2022-07-02 10:01:51,652 — Plot — DEBUG — Loaded successfully!\n"
     ]
    }
   ],
   "source": [
    "sys.path.append(os.path.abspath(os.path.join('../scripts')))\n",
    "from file_handler import FileHandler\n",
    "from plots import Plots\n",
    "plot = Plots()"
   ]
  },
  {
   "cell_type": "code",
   "execution_count": 28,
   "metadata": {},
   "outputs": [
    {
     "name": "stdout",
     "output_type": "stream",
     "text": [
      "2022-07-02 10:24:32,499 — FileHandler — DEBUG — file read as csv\n",
      "2022-07-02 10:24:32,504 — FileHandler — DEBUG — file read as csv\n"
     ]
    }
   ],
   "source": [
    "file_handler = FileHandler()\n",
    "data_feat = file_handler.read_csv(\"../data/features_data.csv\") \n",
    "total_data_df = file_handler.read_csv(\"../data/cleaned_data.csv\") "
   ]
  },
  {
   "cell_type": "markdown",
   "metadata": {},
   "source": [
    "#### Label Encode the string `diagnosis` column"
   ]
  },
  {
   "cell_type": "code",
   "execution_count": 29,
   "metadata": {},
   "outputs": [],
   "source": [
    "# Label encode the string value: diagnosis\n",
    "\n",
    "encoder = preprocessing.LabelEncoder()    \n",
    "diagnosis = np.float64(encoder.fit_transform(data_feat['diagnosis']))"
   ]
  }
 ],
 "metadata": {
  "kernelspec": {
   "display_name": "Python 3.8.13 ('causalenv')",
   "language": "python",
   "name": "python3"
  },
  "language_info": {
   "codemirror_mode": {
    "name": "ipython",
    "version": 3
   },
   "file_extension": ".py",
   "mimetype": "text/x-python",
   "name": "python",
   "nbconvert_exporter": "python",
   "pygments_lexer": "ipython3",
   "version": "3.8.13"
  },
  "orig_nbformat": 4,
  "vscode": {
   "interpreter": {
    "hash": "f40c375871cd1573e974e3b96605d3bc498e6cbd4ebed97888019e555864aa9a"
   }
  }
 },
 "nbformat": 4,
 "nbformat_minor": 2
}
